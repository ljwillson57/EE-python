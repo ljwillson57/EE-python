{
 "cells": [
  {
   "cell_type": "code",
   "execution_count": 1,
   "metadata": {
    "collapsed": true
   },
   "outputs": [],
   "source": [
    "#Import and initialize Google Earth Engine\n",
    "import ee\n",
    "ee.Initialize()"
   ]
  },
  {
   "cell_type": "code",
   "execution_count": 2,
   "metadata": {
    "collapsed": true
   },
   "outputs": [],
   "source": [
    "#Import relevant packages and functions\n",
    "\n",
    "%matplotlib notebook\n",
    "\n",
    "from __future__ import print_function # For py 2.7 compat\n",
    "\n",
    "\n",
    "import datetime\n",
    "import ipywidgets\n",
    "from IPython.display import display\n",
    "from IPython.display import Image\n",
    "import traitlets\n",
    "from IPython.core.display import Javascript"
   ]
  },
  {
   "cell_type": "code",
   "execution_count": 3,
   "metadata": {
    "collapsed": false
   },
   "outputs": [
    {
     "data": {
      "text/plain": [
       "'5.1.0'"
      ]
     },
     "execution_count": 3,
     "metadata": {},
     "output_type": "execute_result"
    }
   ],
   "source": [
    "import IPython\n",
    "IPython.__version__"
   ]
  },
  {
   "cell_type": "code",
   "execution_count": 4,
   "metadata": {
    "collapsed": false
   },
   "outputs": [
    {
     "name": "stdout",
     "output_type": "stream",
     "text": [
      "{u'bands': [{u'crs': u'EPSG:4326', u'crs_transform': [0.0002777777777777778, 0.0, -180.0001388888889, 0.0, -0.0002777777777777778, 60.00013888888889], u'id': u'elevation', u'data_type': {u'max': 32767, u'type': u'PixelType', u'precision': u'int', u'min': -32768}, u'dimensions': [1296001, 417601]}], u'version': 1475598684077000, u'type': u'Image', u'id': u'USGS/SRTMGL1_003', u'properties': {u'provider_url': u'http://www2.jpl.nasa.gov/srtm/', u'system:visualization_0_max': 6000, u'thumb': u'https://mw1.google.com/ges/dd/images/SRTM90_V4_thumb.png', u'system:visualization_0_gamma': 1.6, u'title': u'SRTM Digital Elevation Data 30m', u'description': u\"<p>The Shuttle Radar Topography Mission (SRTM, see    <a href='http://onlinelibrary.wiley.com/doi/10.1029/2005RG000183/full'>Farr   et al. 2007</a>) digital elevation data is an international   research effort that obtained digital elevation models on a near-global   scale from 56&deg S to 60&deg N.  This version of SRTM data has a   resolution of 1 arc-second (approximately 30m). The dataset underwent a   void-filling process using open-source data, primarily GDEM2 and GMTED20.   See <a href='http://www2.jpl.nasa.gov/srtm/'>the JPL SRTM page</a> for more   information. The full dataset is now available.</p>    <p>This dataset contains one band, 'elevation'   (meters).</p><p>The data were downloaded from <a   href='http://e4ftl01.cr.usgs.gov/SRTM/SRTMGL1.003/2000.02.11/'>USGS Data   Pool</a>.</p>\", u'tags': [u'nasa', u'usgs', u'srtm', u'elevation', u'topography', u'dem', u'geophysical'], u'period': 0, u'system:visualization_0_name': u'Elevation', u'date_range': [950227200000, 951177600000], u'sample': u'https://mw1.google.com/ges/dd/images/SRTM90_V4_sample.png', u'link': u'USGS/_SRTMGL1_003', u'provider': u'NASA / USGS / JPL-Caltech', u'system:visualization_0_min': 0, u'system:asset_size': 132792638252, u'system:visualization_0_bands': u'elevation'}}\n"
     ]
    }
   ],
   "source": [
    "#Import the Digital Elevation Model (DEM)\n",
    "Elevation = ee.Image(\"USGS/SRTMGL1_003\")\n",
    "print(Elevation.getInfo())"
   ]
  },
  {
   "cell_type": "code",
   "execution_count": 5,
   "metadata": {
    "collapsed": false
   },
   "outputs": [
    {
     "name": "stdout",
     "output_type": "stream",
     "text": [
      "{u'bands': [{u'crs': u'EPSG:4326', u'crs_transform': [0.0002777777777777778, 0.0, -180.0001388888889, 0.0, -0.0002777777777777778, 60.00013888888889], u'id': u'slope', u'data_type': {u'max': 90.0, u'type': u'PixelType', u'precision': u'float', u'min': 0.0}}], u'type': u'Image'}\n"
     ]
    }
   ],
   "source": [
    "#Local slope - calculates slope in degrees from the DEM\n",
    "slope = ee.Terrain.slope(Elevation)\n",
    "print(slope.getInfo())\n"
   ]
  },
  {
   "cell_type": "code",
   "execution_count": 6,
   "metadata": {
    "collapsed": false
   },
   "outputs": [
    {
     "data": {
      "text/html": [
       "<img src=\"https://earthengine.googleapis.com/api/thumb?thumbid=868d52a30ab3380e97f497ae2c6943ef&token=dd8b9fee9ce01e55d5025cca87e84235\"/>"
      ],
      "text/plain": [
       "<IPython.core.display.Image object>"
      ]
     },
     "execution_count": 6,
     "metadata": {},
     "output_type": "execute_result"
    }
   ],
   "source": [
    "# Create a reference to the slope image collection to test that everything worked so far\n",
    "outImg = ee.ImageCollection(slope).mosaic()\n",
    "Image(url=outImg.getThumbUrl({'min':0, 'max':180}))\n",
    "## Define a region roughly covering California -- this is just for now! Update with Senegal later\n",
    "point = ee.Geometry.Point(-118, 37)\n",
    "region_california = point.buffer(500000).bounds().getInfo()['coordinates']\n",
    "# And finally display the image.\n",
    "Image(url=outImg.getThumbUrl({'region':region_california}))"
   ]
  },
  {
   "cell_type": "code",
   "execution_count": 7,
   "metadata": {
    "collapsed": false
   },
   "outputs": [
    {
     "name": "stdout",
     "output_type": "stream",
     "text": [
      "{u'bands': [{u'crs': u'EPSG:4326', u'crs_transform': [0.0002777777777777778, 0.0, -180.0001388888889, 0.0, -0.0002777777777777778, 60.00013888888889], u'id': u'elevation', u'data_type': {u'type': u'PixelType', u'precision': u'double'}, u'dimensions': [1296001, 417601]}], u'version': 1475598684077000, u'type': u'Image', u'id': u'USGS/SRTMGL1_003', u'properties': {u'provider_url': u'http://www2.jpl.nasa.gov/srtm/', u'system:visualization_0_max': 6000, u'thumb': u'https://mw1.google.com/ges/dd/images/SRTM90_V4_thumb.png', u'system:visualization_0_gamma': 1.6, u'title': u'SRTM Digital Elevation Data 30m', u'description': u\"<p>The Shuttle Radar Topography Mission (SRTM, see    <a href='http://onlinelibrary.wiley.com/doi/10.1029/2005RG000183/full'>Farr   et al. 2007</a>) digital elevation data is an international   research effort that obtained digital elevation models on a near-global   scale from 56&deg S to 60&deg N.  This version of SRTM data has a   resolution of 1 arc-second (approximately 30m). The dataset underwent a   void-filling process using open-source data, primarily GDEM2 and GMTED20.   See <a href='http://www2.jpl.nasa.gov/srtm/'>the JPL SRTM page</a> for more   information. The full dataset is now available.</p>    <p>This dataset contains one band, 'elevation'   (meters).</p><p>The data were downloaded from <a   href='http://e4ftl01.cr.usgs.gov/SRTM/SRTMGL1.003/2000.02.11/'>USGS Data   Pool</a>.</p>\", u'tags': [u'nasa', u'usgs', u'srtm', u'elevation', u'topography', u'dem', u'geophysical'], u'period': 0, u'system:visualization_0_name': u'Elevation', u'date_range': [950227200000, 951177600000], u'sample': u'https://mw1.google.com/ges/dd/images/SRTM90_V4_sample.png', u'link': u'USGS/_SRTMGL1_003', u'provider': u'NASA / USGS / JPL-Caltech', u'system:visualization_0_min': 0, u'system:asset_size': 132792638252, u'system:visualization_0_bands': u'elevation'}}\n"
     ]
    }
   ],
   "source": [
    "#Curvature - This calculates the curvature, which is defined as the slope of the slope. \n",
    "#You can think of it as the shape (convex, concave, flat) of the area\n",
    "#While slope helps define the rate of of run-off, curvature helps determine the direction of flow. \n",
    "curv  = (Elevation.convolve(ee.Kernel.laplacian8())).resample()\n",
    "print(curv.getInfo())\n"
   ]
  },
  {
   "cell_type": "code",
   "execution_count": 8,
   "metadata": {
    "collapsed": false
   },
   "outputs": [
    {
     "data": {
      "text/html": [
       "<img src=\"https://earthengine.googleapis.com/api/thumb?thumbid=9126faa40cde558bd33b7ba45b84446c&token=01ae547fb00907281e8669319736bfa1\"/>"
      ],
      "text/plain": [
       "<IPython.core.display.Image object>"
      ]
     },
     "execution_count": 8,
     "metadata": {},
     "output_type": "execute_result"
    }
   ],
   "source": [
    "# Create a reference to the curvature image collection to test that it worked\n",
    "outImg2 = ee.ImageCollection(curv).mosaic()\n",
    "Image(url=outImg2.getThumbUrl({'min':0, 'max':180}))\n",
    "## Define a region roughly covering California -- this is just for now! Update with Senegal later\n",
    "point = ee.Geometry.Point(-118, 37)\n",
    "region_california = point.buffer(500000).bounds().getInfo()['coordinates']\n",
    "# And finally display the image.\n",
    "Image(url=outImg2.getThumbUrl({'region':region_california}))"
   ]
  },
  {
   "cell_type": "code",
   "execution_count": 9,
   "metadata": {
    "collapsed": false
   },
   "outputs": [
    {
     "name": "stdout",
     "output_type": "stream",
     "text": [
      "{u'bands': [{u'crs': u'EPSG:4326', u'crs_transform': [1.0, 0.0, 0.0, 0.0, 1.0, 0.0], u'id': u'precipitation', u'data_type': {u'type': u'PixelType', u'precision': u'double'}}], u'type': u'Image'}\n"
     ]
    }
   ],
   "source": [
    "###Section 2.2 Climate & Precipitation Indicators\n",
    "\n",
    "#Total precipitation during the flood event from Aug 28th-Sep 4th\n",
    "    #filters  for precipitation during the period of interest \n",
    "#create an image collection for all the days of the year\n",
    "precip = ee.Image(ee.ImageCollection('NOAA/PERSIANN-CDR').filterDate\n",
    "    ('2012-08-28', '2012-09-04').select(\"precipitation\").sum())\n",
    "print(precip.getInfo())"
   ]
  },
  {
   "cell_type": "code",
   "execution_count": 10,
   "metadata": {
    "collapsed": false
   },
   "outputs": [
    {
     "name": "stdout",
     "output_type": "stream",
     "text": [
      "{u'bands': [{u'crs': u'EPSG:4326', u'crs_transform': [1.0, 0.0, 0.0, 0.0, 1.0, 0.0], u'id': u'precipitation', u'data_type': {u'type': u'PixelType', u'precision': u'double'}}], u'type': u'Image'}\n"
     ]
    }
   ],
   "source": [
    "## Define event precipitation intensity \n",
    "  ##  PINT (mm/day) = P/ndays where P is daily precipitation (mm) and ndays = number of days of storm (day)\n",
    "    ## this number just tells you how hard it rained each day\n",
    "pint = precip.divide(8)\n",
    "print(pint.getInfo())"
   ]
  },
  {
   "cell_type": "code",
   "execution_count": 11,
   "metadata": {
    "collapsed": false
   },
   "outputs": [
    {
     "data": {
      "text/html": [
       "<img src=\"https://earthengine.googleapis.com/api/thumb?thumbid=bc8aacc76daf922b8217c43e581239e4&token=d0f6ced7a27a7832006f8bd9635ca3ad\"/>"
      ],
      "text/plain": [
       "<IPython.core.display.Image object>"
      ]
     },
     "execution_count": 11,
     "metadata": {},
     "output_type": "execute_result"
    }
   ],
   "source": [
    "## Annual Storm Intensity Index -- create an image collection for all the days of the year\n",
    "collection = (ee.ImageCollection('NOAA/PERSIANN-CDR').filterDate('2012-01-01', '2012-12-31'))\n",
    "# Use the mosaic reducer, to select the most recent pixel in areas of overlap\n",
    "precip_image = collection.mosaic()\n",
    "# Define a region roughly covering California\n",
    "point = ee.Geometry.Point(-118, 37)\n",
    "region_california = point.buffer(500000).bounds().getInfo()['coordinates']\n",
    "# And finally display the image.\n",
    "Image(url=precip_image.getThumbUrl({'region':region_california}))"
   ]
  },
  {
   "cell_type": "code",
   "execution_count": 26,
   "metadata": {
    "collapsed": true
   },
   "outputs": [],
   "source": [
    "#Conditional statement to return the image if the precipitation > 1 mm.  \n",
    "#Otherwise it returns a zero image.\n",
    "def conditional(image):\n",
    "        threshold = ee.Image.constant(0.2) ##set threshold with rainy \n",
    "        image = image.select('precipitation').gt(threshold)\n",
    "        return image"
   ]
  },
  {
   "cell_type": "code",
   "execution_count": 31,
   "metadata": {
    "collapsed": false
   },
   "outputs": [
    {
     "data": {
      "text/html": [
       "<img src=\"https://earthengine.googleapis.com/api/thumb?thumbid=a063f764544cd0bfed37b431782ec450&token=bd14cbed9fdf03bbe110d31ed27ecb88\"/>"
      ],
      "text/plain": [
       "<IPython.core.display.Image object>"
      ]
     },
     "execution_count": 31,
     "metadata": {},
     "output_type": "execute_result"
    }
   ],
   "source": [
    "## This tells you on days when it rains on average how much does it rain.\n",
    "## For systems with really intense storms, this will be high. For \n",
    "## systems where it rains a lot but just little bits every day, it will be low\n",
    "## Is this summing the precipitation value or just hte number of days? \n",
    "## Either way this code is wrong!!!! Double check this\n",
    "rainydays =(collection.select('precipitation').map(conditional)).sum()\n",
    "\n",
    "\n",
    "## Attempting to view the output to see if it works -- big gray square -- not sure\n",
    "outImg3 = ee.ImageCollection(rainydays).mosaic()\n",
    "## What should the min and max be here?\n",
    "Image(url=outImg3.getThumbUrl({'min':0, 'max':10}))\n",
    "## Define a region roughly covering California -- this is just for now! Update with Senegal later\n",
    "point = ee.Geometry.Point(-118, 37)\n",
    "region_california = point.buffer(500000).bounds().getInfo()['coordinates']\n",
    "# And finally display the image.\n",
    "Image(url=outImg3.getThumbUrl({'region':region_california}))"
   ]
  },
  {
   "cell_type": "code",
   "execution_count": 21,
   "metadata": {
    "collapsed": false
   },
   "outputs": [],
   "source": [
    "#This gives you a sense of how much harder it rained during the storm than it does on any normal rainy day\n",
    "rainScore = pint.divide(rainydays)"
   ]
  },
  {
   "cell_type": "code",
   "execution_count": 32,
   "metadata": {
    "collapsed": true
   },
   "outputs": [],
   "source": [
    "#### Section 2.3 Development Indicators\n",
    " \n",
    "# Impervious surface  -bring in land cover/land use data\n",
    "cover = ee.Image('ESA/GLOBCOVER_L4_200901_200912_V2_3').select(0)\n",
    "imp = cover.eq(190)"
   ]
  },
  {
   "cell_type": "code",
   "execution_count": 33,
   "metadata": {
    "collapsed": false
   },
   "outputs": [
    {
     "name": "stdout",
     "output_type": "stream",
     "text": [
      "{u'bands': [{u'crs': u'EPSG:4326', u'crs_transform': [0.002777777777777778, 0.0, -180.0013888888889, 0.0, -0.002777777777777778, 90.00138888888888], u'dimensions': [129600, 55800], u'data_type': {u'max': 255, u'type': u'PixelType', u'precision': u'int', u'min': 0}, u'id': u'landcover', u'properties': {u'system:nodata_value': 0.0, u'system:interpolate': 0}}], u'version': 1476468451314000, u'type': u'Image', u'id': u'ESA/GLOBCOVER_L4_200901_200912_V2_3', u'properties': {u'system:time_end': 1395316593836, u'system:visualization_0_bands': u'landcover', u'provider_url': u'http://dup.esrin.esa.int/page_globcover.php', u'system:asset_size': 424749697, u'title': u'GlobCover: Global Land Cover Map', u'landcover_class_values': [11, 14, 20, 30, 40, 50, 60, 70, 90, 100, 110, 120, 130, 140, 150, 160, 170, 180, 190, 200, 210, 220, 230], u'landcover_class_names': [u'Post-flooding or irrigated croplands', u'Rainfed croplands', u'Mosaic Cropland (50-70%) / Vegetation (grassland, shrubland, forest) (20-50%) ', u'Mosaic Vegetation (grassland, shrubland, forest) (50-70%) / Cropland (20-50%)   ', u'Closed to open (>15%) broadleaved evergreen and/or semi-deciduous forest (>5m) ', u'Closed (>40%) broadleaved deciduous forest (>5m)', u'Open (15-40%) broadleaved deciduous forest (>5m) ', u'Closed (>40%) needleleaved evergreen forest (>5m) ', u'Open (15-40%) needleleaved deciduous or evergreen forest (>5m)', u'Closed to open (>15%) mixed broadleaved and needleleaved forest (>5m)', u'Mosaic Forest/Shrubland (50-70%) / Grassland (20-50%)', u'Mosaic Grassland (50-70%) / Forest/Shrubland (20-50%)', u'Closed to open (>15%) shrubland (<5m) ', u'Closed to open (>15%) grassland ', u'Sparse (>15%) vegetation (woody vegetation, shrubs, grassland) ', u'Closed (>40%) broadleaved forest regularly flooded - Fresh water', u'Closed (>40%) broadleaved semi-deciduous and/or evergreen forest regularly flooded - Saline water ', u'Closed to open (>15%) vegetation (grassland, shrubland, woody vegetation) on regularly flooded or waterlogged soil - Fresh, brackish or saline water', u'Artificial surfaces and associated areas (urban areas >50%) GLOBCOVER 2009 ', u'Bare areas ', u'Water bodies ', u'Permanent snow and ice', u'Unclassified'], u'period': 0, u'date_range': [1230768000000, 1262304000000], u'system:visualization_0_name': u'Landcover', u'link': u'ESA/_GLOBCOVER_L4_200901_200912_V2_3', u'provider': u'ESA', u'system:footprint': {u'type': u'LinearRing', u'coordinates': [[-180.0, 90.0], [-180.0, -64.99861111111112], [180.0, -64.99861111111112], [180.0, 90.0], [-180.0, 90.0]]}, u'system:time_start': 1395316593836, u'landcover_class_palette': [u'aaefef', u'ffff63', u'dcef63', u'cdcd64', u'006300', u'009f00', u'aac700', u'003b00', u'286300', u'788300', u'8d9f00', u'bd9500', u'956300', u'ffb431', u'ffebae', u'00785a', u'009578', u'00dc83', u'c31300', u'fff5d6', u'0046c7', u'ffffff', u'743411'], u'tags': [u'esa', u'landcover', u'globcover'], u'description': u\"<p>GlobCover 2009 is a global land cover map based on ENVISAT's Medium Resolution Imaging Spectrometer (MERIS) Level 1B data acquired in full resolution mode with a spatial resolution of approximately 300 meters. The dataset contains the following bands:  <ul>  <li>landcover: The land cover map is derived by an automatic and regionally-tuned classification of a time series of global MERIS FR mosaics for the year 2009. The global land cover map counts 22 land cover classes defined with the United Nations (UN) Land Cover Classification System (LCCS).  The 'landcover_class_values' and 'landcover_class_names' properties store the numeric values and corresponding class labels, respectively, for the mapped land cover classes.</li>  <li>qa: binary quality band indicating whether the reference dataset has been used instead of the output of the GlobCover classification scheme. Areas classified using the reference dataset have value of 1 while the rest have no values.</li>  </ul> </p>\"}}\n"
     ]
    }
   ],
   "source": [
    "#### Section 2.4 Hydrologic Indicators \n",
    "\n",
    "## Euclidean distance from water features \n",
    "## select waterfeatures by filtering for LC labelled 180 (GlobCover category for H20)\n",
    "\n",
    "## In other code the line directly below was in comments. Is it not supposed to be in here?\n",
    "waterf= ee.Image(\"MODIS/MOD44W/MOD44W_005_2000_02_24\").select(\"water_mask\");\n",
    "cover = ee.Image('ESA/GLOBCOVER_L4_200901_200912_V2_3').select(0);\n",
    "waterf = cover.eq(210)\n",
    "imp = cover.eq(190)\n",
    "print(cover.getInfo())"
   ]
  },
  {
   "cell_type": "code",
   "execution_count": 34,
   "metadata": {
    "collapsed": true
   },
   "outputs": [],
   "source": [
    "# Create a distance kernel -defining area of analysis\n",
    "kern = ee.Kernel.euclidean(2000, 'meters')"
   ]
  },
  {
   "cell_type": "code",
   "execution_count": 35,
   "metadata": {
    "collapsed": false
   },
   "outputs": [],
   "source": [
    "# associate the viewing distance (kern) with the water features\n",
    "distance = waterf.distance(kern)"
   ]
  },
  {
   "cell_type": "code",
   "execution_count": 36,
   "metadata": {
    "collapsed": false
   },
   "outputs": [
    {
     "ename": "NameError",
     "evalue": "name 'nhd' is not defined",
     "output_type": "error",
     "traceback": [
      "\u001b[0;31m---------------------------------------------------------------------------\u001b[0m",
      "\u001b[0;31mNameError\u001b[0m                                 Traceback (most recent call last)",
      "\u001b[0;32m<ipython-input-36-f2143a776191>\u001b[0m in \u001b[0;36m<module>\u001b[0;34m()\u001b[0m\n\u001b[1;32m      1\u001b[0m \u001b[0;31m# calculate distance from rivers using the NHD data and the distance variable\u001b[0m\u001b[0;34m\u001b[0m\u001b[0;34m\u001b[0m\u001b[0m\n\u001b[0;32m----> 2\u001b[0;31m \u001b[0mrdist\u001b[0m \u001b[0;34m=\u001b[0m \u001b[0mnhd\u001b[0m\u001b[0;34m.\u001b[0m\u001b[0mdistance\u001b[0m\u001b[0;34m(\u001b[0m\u001b[0;34m)\u001b[0m\u001b[0;34m.\u001b[0m\u001b[0mclip\u001b[0m\u001b[0;34m(\u001b[0m\u001b[0mfc\u001b[0m\u001b[0;34m)\u001b[0m\u001b[0;34m\u001b[0m\u001b[0m\n\u001b[0m",
      "\u001b[0;31mNameError\u001b[0m: name 'nhd' is not defined"
     ]
    }
   ],
   "source": [
    "# calculate distance from rivers using the NHD data and the distance variable -- hopefully will work once i enter\n",
    "# in Senegal specific info\n",
    "rdist = nhd.distance().clip(fc)"
   ]
  },
  {
   "cell_type": "code",
   "execution_count": 37,
   "metadata": {
    "collapsed": true
   },
   "outputs": [],
   "source": [
    "##Topographic Wetness Index (TWI)\n",
    "  #Preprocessing includes generating flow accumulation, catchment area & slope --15 sec flow accumulation\n",
    "FLOWAC = ee.Image('WWF/HydroSHEDS/15ACC')"
   ]
  },
  {
   "cell_type": "code",
   "execution_count": 44,
   "metadata": {
    "collapsed": false
   },
   "outputs": [
    {
     "data": {
      "text/html": [
       "<img src=\"https://earthengine.googleapis.com/api/thumb?thumbid=f2581ffed1375dc7632d30d80890e1ff&token=4bd72ca48c3a48b94a55c440518166af\"/>"
      ],
      "text/plain": [
       "<IPython.core.display.Image object>"
      ]
     },
     "execution_count": 44,
     "metadata": {},
     "output_type": "execute_result"
    }
   ],
   "source": [
    "## Test image - image test not working -- maybe be image, may be symbology\n",
    "Image(url=FLOWAC.getThumbUrl({'min':0, 'max':30}))\n",
    "## Define a region roughly covering California -- this is just for now! Update with Senegal later\n",
    "point = ee.Geometry.Point(-118, 37)\n",
    "region_california = point.buffer(100).bounds().getInfo()['coordinates']\n",
    "# And finally display the image.\n",
    "Image(url=FLOWAC.getThumbUrl({'region':region_california}))"
   ]
  },
  {
   "cell_type": "code",
   "execution_count": 45,
   "metadata": {
    "collapsed": false
   },
   "outputs": [
    {
     "ename": "NameError",
     "evalue": "name 'fc' is not defined",
     "output_type": "error",
     "traceback": [
      "\u001b[0;31m---------------------------------------------------------------------------\u001b[0m",
      "\u001b[0;31mNameError\u001b[0m                                 Traceback (most recent call last)",
      "\u001b[0;32m<ipython-input-45-89dccdc28594>\u001b[0m in \u001b[0;36m<module>\u001b[0;34m()\u001b[0m\n\u001b[0;32m----> 1\u001b[0;31m \u001b[0mfloodflow\u001b[0m \u001b[0;34m=\u001b[0m \u001b[0mFLOWAC\u001b[0m\u001b[0;34m.\u001b[0m\u001b[0mclip\u001b[0m\u001b[0;34m(\u001b[0m\u001b[0mfc\u001b[0m\u001b[0;34m)\u001b[0m\u001b[0;34m\u001b[0m\u001b[0m\n\u001b[0m",
      "\u001b[0;31mNameError\u001b[0m: name 'fc' is not defined"
     ]
    }
   ],
   "source": [
    "##flow accumulation in the flood zone - test this image once I have Senegal data\n",
    "floodflow = FLOWAC.clip(fc)"
   ]
  },
  {
   "cell_type": "code",
   "execution_count": 46,
   "metadata": {
    "collapsed": true
   },
   "outputs": [],
   "source": [
    "## create layer of just 1's \n",
    "imageof1 = ee.Image.constant(1)"
   ]
  },
  {
   "cell_type": "code",
   "execution_count": 47,
   "metadata": {
    "collapsed": false
   },
   "outputs": [
    {
     "ename": "NameError",
     "evalue": "name 'floodflow' is not defined",
     "output_type": "error",
     "traceback": [
      "\u001b[0;31m---------------------------------------------------------------------------\u001b[0m",
      "\u001b[0;31mNameError\u001b[0m                                 Traceback (most recent call last)",
      "\u001b[0;32m<ipython-input-47-d39b86d296f6>\u001b[0m in \u001b[0;36m<module>\u001b[0;34m()\u001b[0m\n\u001b[1;32m      1\u001b[0m \u001b[0;31m## add +1 to flow accumulation -this is so you don't get zeros when you take the log\u001b[0m\u001b[0;34m\u001b[0m\u001b[0;34m\u001b[0m\u001b[0m\n\u001b[0;32m----> 2\u001b[0;31m \u001b[0mfloodflowplus1\u001b[0m \u001b[0;34m=\u001b[0m \u001b[0mfloodflow\u001b[0m\u001b[0;34m.\u001b[0m\u001b[0madd\u001b[0m\u001b[0;34m(\u001b[0m\u001b[0mimageof1\u001b[0m\u001b[0;34m)\u001b[0m\u001b[0;34m\u001b[0m\u001b[0m\n\u001b[0m",
      "\u001b[0;31mNameError\u001b[0m: name 'floodflow' is not defined"
     ]
    }
   ],
   "source": [
    "## add +1 to flow accumulation -this is so you don't get zeros when you take the log -- Floodflow not defined yet\n",
    "floodflowplus1 = floodflow.add(imageof1)"
   ]
  },
  {
   "cell_type": "code",
   "execution_count": 48,
   "metadata": {
    "collapsed": false
   },
   "outputs": [
    {
     "ename": "NameError",
     "evalue": "name 'floodflow' is not defined",
     "output_type": "error",
     "traceback": [
      "\u001b[0;31m---------------------------------------------------------------------------\u001b[0m",
      "\u001b[0;31mNameError\u001b[0m                                 Traceback (most recent call last)",
      "\u001b[0;32m<ipython-input-48-18ff35c1c713>\u001b[0m in \u001b[0;36m<module>\u001b[0;34m()\u001b[0m\n\u001b[1;32m      1\u001b[0m \u001b[0;31m## pixel dimensions of flow accumulation\u001b[0m\u001b[0;34m\u001b[0m\u001b[0;34m\u001b[0m\u001b[0m\n\u001b[0;32m----> 2\u001b[0;31m \u001b[0mpixel_area\u001b[0m \u001b[0;34m=\u001b[0m \u001b[0mee\u001b[0m\u001b[0;34m.\u001b[0m\u001b[0mImage\u001b[0m\u001b[0;34m.\u001b[0m\u001b[0mpixelArea\u001b[0m\u001b[0;34m(\u001b[0m\u001b[0;34m)\u001b[0m\u001b[0;34m.\u001b[0m\u001b[0mmask\u001b[0m\u001b[0;34m(\u001b[0m\u001b[0mfloodflow\u001b[0m\u001b[0;34m.\u001b[0m\u001b[0mmask\u001b[0m\u001b[0;34m(\u001b[0m\u001b[0;34m)\u001b[0m\u001b[0;34m)\u001b[0m\u001b[0;34m\u001b[0m\u001b[0m\n\u001b[0m",
      "\u001b[0;31mNameError\u001b[0m: name 'floodflow' is not defined"
     ]
    }
   ],
   "source": [
    "## pixel dimensions of flow accumulation\n",
    "pixel_area = ee.Image.pixelArea().mask(floodflow.mask())"
   ]
  },
  {
   "cell_type": "code",
   "execution_count": 49,
   "metadata": {
    "collapsed": false
   },
   "outputs": [
    {
     "ename": "NameError",
     "evalue": "name 'floodflowplus1' is not defined",
     "output_type": "error",
     "traceback": [
      "\u001b[0;31m---------------------------------------------------------------------------\u001b[0m",
      "\u001b[0;31mNameError\u001b[0m                                 Traceback (most recent call last)",
      "\u001b[0;32m<ipython-input-49-0127a7085664>\u001b[0m in \u001b[0;36m<module>\u001b[0;34m()\u001b[0m\n\u001b[1;32m      4\u001b[0m         \u001b[0;31m## calculated by multiplying the number of pixels\u001b[0m\u001b[0;34m\u001b[0m\u001b[0;34m\u001b[0m\u001b[0m\n\u001b[1;32m      5\u001b[0m         \u001b[0;31m## flowing into a given pixel * the area\u001b[0m\u001b[0;34m\u001b[0m\u001b[0;34m\u001b[0m\u001b[0m\n\u001b[0;32m----> 6\u001b[0;31m \u001b[0mCA\u001b[0m \u001b[0;34m=\u001b[0m \u001b[0mfloodflowplus1\u001b[0m\u001b[0;34m.\u001b[0m\u001b[0mmultiply\u001b[0m\u001b[0;34m(\u001b[0m\u001b[0mpixel_area\u001b[0m\u001b[0;34m)\u001b[0m\u001b[0;34m\u001b[0m\u001b[0m\n\u001b[0m",
      "\u001b[0;31mNameError\u001b[0m: name 'floodflowplus1' is not defined"
     ]
    }
   ],
   "source": [
    "## now calculate the upstream area for each pixel using \n",
    "  # contributing catchment area according to topmodel topographic index equation.\n",
    "      ## CA= (flow accum + 1 * cell^2)\n",
    "        ## calculated by multiplying the number of pixels \n",
    "        ## flowing into a given pixel * the area \n",
    "CA = floodflowplus1.multiply(pixel_area)"
   ]
  },
  {
   "cell_type": "code",
   "execution_count": 50,
   "metadata": {
    "collapsed": true
   },
   "outputs": [],
   "source": [
    "## add a very low number to the slope so that zero \n",
    "  ## slopes dont get counted out of the index\n",
    "imageofalmost0 = ee.Image.constant(0.0000001)"
   ]
  },
  {
   "cell_type": "code",
   "execution_count": 51,
   "metadata": {
    "collapsed": true
   },
   "outputs": [],
   "source": [
    "## getting new slope with no zero\n",
    "nonzeroslopes = slope.add(imageofalmost0)"
   ]
  },
  {
   "cell_type": "code",
   "execution_count": 53,
   "metadata": {
    "collapsed": false
   },
   "outputs": [],
   "source": [
    "## convert to radians - originally was divided by 280 - should be 180?\n",
    "sloperadians = nonzeroslopes.multiply(3.141593/180)"
   ]
  },
  {
   "cell_type": "code",
   "execution_count": 57,
   "metadata": {
    "collapsed": false
   },
   "outputs": [],
   "source": [
    "## calcualte the tan of the slope for TI equation\n",
    "tanslope = sloperadians.tan()\n",
    "clipped2 = tanslope"
   ]
  },
  {
   "cell_type": "code",
   "execution_count": 58,
   "metadata": {
    "collapsed": false
   },
   "outputs": [
    {
     "ename": "NameError",
     "evalue": "name 'CA' is not defined",
     "output_type": "error",
     "traceback": [
      "\u001b[0;31m---------------------------------------------------------------------------\u001b[0m",
      "\u001b[0;31mNameError\u001b[0m                                 Traceback (most recent call last)",
      "\u001b[0;32m<ipython-input-58-a3c3fee81bd0>\u001b[0m in \u001b[0;36m<module>\u001b[0;34m()\u001b[0m\n\u001b[1;32m      4\u001b[0m     \u001b[0;31m# length and tanβ is the local slope.\u001b[0m\u001b[0;34m\u001b[0m\u001b[0;34m\u001b[0m\u001b[0m\n\u001b[1;32m      5\u001b[0m       \u001b[0;31m# note that both TWI and SPI assume steady state\u001b[0m\u001b[0;34m\u001b[0m\u001b[0;34m\u001b[0m\u001b[0m\n\u001b[0;32m----> 6\u001b[0;31m \u001b[0mtopoindex\u001b[0m \u001b[0;34m=\u001b[0m \u001b[0mCA\u001b[0m\u001b[0;34m.\u001b[0m\u001b[0mdivide\u001b[0m\u001b[0;34m(\u001b[0m\u001b[0mclipped2\u001b[0m\u001b[0;34m)\u001b[0m\u001b[0;34m\u001b[0m\u001b[0m\n\u001b[0m\u001b[1;32m      7\u001b[0m \u001b[0mtwi\u001b[0m \u001b[0;34m=\u001b[0m \u001b[0mtopoindex\u001b[0m\u001b[0;34m.\u001b[0m\u001b[0mlog\u001b[0m\u001b[0;34m(\u001b[0m\u001b[0;34m)\u001b[0m\u001b[0;34m\u001b[0m\u001b[0m\n",
      "\u001b[0;31mNameError\u001b[0m: name 'CA' is not defined"
     ]
    }
   ],
   "source": [
    "##topographic index is LN([flowaccum+1*cellarea]/tanslope)\n",
    "      # It is defined as ln(a/tanβ) where a is the local\n",
    "      # upslope area draining through a certain point per unit contour\n",
    "    # length and tanβ is the local slope.\n",
    "      # note that both TWI and SPI assume steady state\n",
    "topoindex = CA.divide(clipped2)\n",
    "twi = topoindex.log()"
   ]
  },
  {
   "cell_type": "code",
   "execution_count": 59,
   "metadata": {
    "collapsed": false
   },
   "outputs": [
    {
     "ename": "NameError",
     "evalue": "name 'CA' is not defined",
     "output_type": "error",
     "traceback": [
      "\u001b[0;31m---------------------------------------------------------------------------\u001b[0m",
      "\u001b[0;31mNameError\u001b[0m                                 Traceback (most recent call last)",
      "\u001b[0;32m<ipython-input-59-c352c1780317>\u001b[0m in \u001b[0;36m<module>\u001b[0;34m()\u001b[0m\n\u001b[1;32m      1\u001b[0m \u001b[0;31m## Stream Power Index (SPI)\u001b[0m\u001b[0;34m\u001b[0m\u001b[0;34m\u001b[0m\u001b[0m\n\u001b[1;32m      2\u001b[0m   \u001b[0;31m## is just CA/slope (Gallant 2000 Terrain Analysis)\u001b[0m\u001b[0;34m\u001b[0m\u001b[0;34m\u001b[0m\u001b[0m\n\u001b[0;32m----> 3\u001b[0;31m \u001b[0mstreampower\u001b[0m \u001b[0;34m=\u001b[0m \u001b[0mCA\u001b[0m\u001b[0;34m.\u001b[0m\u001b[0mmultiply\u001b[0m\u001b[0;34m(\u001b[0m\u001b[0mclipped2\u001b[0m\u001b[0;34m)\u001b[0m \u001b[0;31m#final SPI\u001b[0m\u001b[0;34m\u001b[0m\u001b[0m\n\u001b[0m\u001b[1;32m      4\u001b[0m \u001b[0mspi\u001b[0m \u001b[0;34m=\u001b[0m \u001b[0mstreampower\u001b[0m\u001b[0;34m.\u001b[0m\u001b[0mclip\u001b[0m\u001b[0;34m(\u001b[0m\u001b[0mfc\u001b[0m\u001b[0;34m)\u001b[0m \u001b[0;31m#clip to watershed\u001b[0m\u001b[0;34m\u001b[0m\u001b[0m\n",
      "\u001b[0;31mNameError\u001b[0m: name 'CA' is not defined"
     ]
    }
   ],
   "source": [
    "## Stream Power Index (SPI)\n",
    "  ## is just CA/slope (Gallant 2000 Terrain Analysis)\n",
    "streampower = CA.multiply(clipped2) #final SPI\n",
    "spi = streampower.clip(fc) #clip to watershed"
   ]
  },
  {
   "cell_type": "code",
   "execution_count": 61,
   "metadata": {
    "collapsed": false
   },
   "outputs": [],
   "source": [
    "# Aspect (snowmelt )\n",
    "## tells you the direction of the slope (0-360 degrees) -important for snowmelt\n",
    "aspect = ee.Terrain.aspect(Elevation)"
   ]
  },
  {
   "cell_type": "code",
   "execution_count": 63,
   "metadata": {
    "collapsed": true
   },
   "outputs": [],
   "source": [
    "## HEIGHT ABOVE NEAREST DRAINAGE - how do i get this global hand data\n",
    "hand = ee.ImageCollection('users/gena/global-hand/hand-100').mosaic()"
   ]
  },
  {
   "cell_type": "code",
   "execution_count": 65,
   "metadata": {
    "collapsed": false
   },
   "outputs": [],
   "source": [
    "def radians(img):\n",
    "    return img.toFloat().multiply(3.1415927).divide(180)\n",
    "\n",
    "def hillshade(az, ze, slope, aspect):\n",
    "    azimuth = radians(ee.Image(az))\n",
    "    zenith = radians(ee.Image(ze))\n",
    "    return azimuth.subtract(aspect).cos().multiply(slope.sin()).multiply(zenith.sin()).add(zenith.cos().multiply(slope.cos()))\n",
    "\n",
    "def hillshadeit(image, elevation, weight, height_multiplier, azimuth, zenith):\n",
    "    hsv  = image.unitScale(0, 255).rgbtohsv()\n",
    "    \n",
    "    terrain = ee.call('Terrain', elevation.multiply(height_multiplier))\n",
    "    slope = radians(terrain.select(['slope']))\n",
    "\n",
    "    aspect = radians(terrain.select(['aspect'])).resample('bicubic')\n",
    "    hs = hillshade(azimuth, zenith, slope, aspect).resample('bicubic')\n",
    "\n",
    "    intensity = hs.multiply(weight).multiply(hsv.select('value'));\n",
    "    huesat = hsv.select('hue', 'saturation');\n",
    "\n",
    "    return ee.Image.cat(huesat, intensity).hsvtorgb()"
   ]
  },
  {
   "cell_type": "code",
   "execution_count": 66,
   "metadata": {
    "collapsed": false
   },
   "outputs": [
    {
     "ename": "SyntaxError",
     "evalue": "invalid syntax (<ipython-input-66-06305e57a9eb>, line 1)",
     "output_type": "error",
     "traceback": [
      "\u001b[0;36m  File \u001b[0;32m\"<ipython-input-66-06305e57a9eb>\"\u001b[0;36m, line \u001b[0;32m1\u001b[0m\n\u001b[0;31m    dem =\u001b[0m\n\u001b[0m         ^\u001b[0m\n\u001b[0;31mSyntaxError\u001b[0m\u001b[0;31m:\u001b[0m invalid syntax\n"
     ]
    }
   ],
   "source": [
    "## global DEM mosaic - I need to figure out how to mosaic these correctly. This is where I've gotten to. 11/30/16\n",
    "dem =\n",
    "  ee.Image('users/gena/ViewfinderpanoramaDEM/VFP_DEM1'),\n",
    "  ee.Image('users/gena/ViewfinderpanoramaDEM/VFP_DEM2'),\n",
    "  ee.Image('users/gena/ViewfinderpanoramaDEM/VFP_DEM3'),\n",
    "  ee.Image('users/gena/ViewfinderpanoramaDEM/VFP_DEM4'),\n",
    "  ee.Image('users/gena/ViewfinderpanoramaDEM/VFP_DEM5'),\n",
    "  ee.Image('users/gena/ViewfinderpanoramaDEM/VFP_DEM6'),\n",
    "  ee.Image('users/gena/ViewfinderpanoramaDEM/VFP_DEM7'),\n",
    "  ee.Image('users/gena/ViewfinderpanoramaDEM/VFP_DEM8'),\n",
    "  elevation"
   ]
  },
  {
   "cell_type": "code",
   "execution_count": 94,
   "metadata": {
    "collapsed": false
   },
   "outputs": [
    {
     "ename": "SyntaxError",
     "evalue": "invalid syntax (<ipython-input-94-b97a37ed2c7c>, line 1)",
     "output_type": "error",
     "traceback": [
      "\u001b[0;36m  File \u001b[0;32m\"<ipython-input-94-b97a37ed2c7c>\"\u001b[0;36m, line \u001b[0;32m1\u001b[0m\n\u001b[0;31m    dem = ee.ImageCollection(dem).map(function(i) { return i.rename('elevation').add(0)}\u001b[0m\n\u001b[0m                                                  ^\u001b[0m\n\u001b[0;31mSyntaxError\u001b[0m\u001b[0;31m:\u001b[0m invalid syntax\n"
     ]
    }
   ],
   "source": [
    "dem = ee.ImageCollection(dem).map(function(i) { return i.rename('elevation').add(0)}"
   ]
  },
  {
   "cell_type": "code",
   "execution_count": 95,
   "metadata": {
    "collapsed": false
   },
   "outputs": [
    {
     "ename": "SyntaxError",
     "evalue": "invalid syntax (<ipython-input-95-3ddc9a413299>, line 1)",
     "output_type": "error",
     "traceback": [
      "\u001b[0;36m  File \u001b[0;32m\"<ipython-input-95-3ddc9a413299>\"\u001b[0;36m, line \u001b[0;32m1\u001b[0m\n\u001b[0;31m    var handVis = function(hsWeight, heightMultiplier, azimuth, zenith) { return dem.map(function(i) {\u001b[0m\n\u001b[0m              ^\u001b[0m\n\u001b[0;31mSyntaxError\u001b[0m\u001b[0;31m:\u001b[0m invalid syntax\n"
     ]
    }
   ],
   "source": [
    "var handVis = function(hsWeight, heightMultiplier, azimuth, zenith) { return dem.map(function(i) { \n",
    "  var handRGB = hand.visualize({min:-1, max:50, palette:colors_hand});\n",
    "  return hillshadeit(handRGB, i, hsWeight, heightMultiplier, azimuth, zenith); \n",
    "}).mosaic()};"
   ]
  },
  {
   "cell_type": "code",
   "execution_count": 97,
   "metadata": {
    "collapsed": false
   },
   "outputs": [],
   "source": [
    "azimuth = 90\n",
    "zenith = 20\n",
    "hsWeight = 1.1\n",
    "heightMultiplier = 4"
   ]
  },
  {
   "cell_type": "code",
   "execution_count": 98,
   "metadata": {
    "collapsed": true
   },
   "outputs": [],
   "source": [
    "dfo3180 = ee.Image('users/jonathanasullivan/geeOtsuDFOAssets_Senegal/Senegal_Otsu_DFO3180_3Day')"
   ]
  },
  {
   "cell_type": "code",
   "execution_count": 99,
   "metadata": {
    "collapsed": false
   },
   "outputs": [
    {
     "ename": "NameError",
     "evalue": "name 'mod44' is not defined",
     "output_type": "error",
     "traceback": [
      "\u001b[0;31m---------------------------------------------------------------------------\u001b[0m",
      "\u001b[0;31mNameError\u001b[0m                                 Traceback (most recent call last)",
      "\u001b[0;32m<ipython-input-99-140e86b825d4>\u001b[0m in \u001b[0;36m<module>\u001b[0;34m()\u001b[0m\n\u001b[0;32m----> 1\u001b[0;31m \u001b[0mmod44_water\u001b[0m \u001b[0;34m=\u001b[0m \u001b[0mmod44\u001b[0m\u001b[0;34m.\u001b[0m\u001b[0mselect\u001b[0m\u001b[0;34m(\u001b[0m\u001b[0;34m[\u001b[0m\u001b[0;36m0\u001b[0m\u001b[0;34m]\u001b[0m\u001b[0;34m)\u001b[0m\u001b[0;34m.\u001b[0m\u001b[0mclip\u001b[0m\u001b[0;34m(\u001b[0m\u001b[0mfc\u001b[0m\u001b[0;34m)\u001b[0m\u001b[0;34m\u001b[0m\u001b[0m\n\u001b[0m\u001b[1;32m      2\u001b[0m \u001b[0mhansen_w\u001b[0m \u001b[0;34m=\u001b[0m \u001b[0mhansen\u001b[0m\u001b[0;34m.\u001b[0m\u001b[0mselect\u001b[0m\u001b[0;34m(\u001b[0m\u001b[0;34m'datamask'\u001b[0m\u001b[0;34m)\u001b[0m\u001b[0;34m.\u001b[0m\u001b[0meq\u001b[0m\u001b[0;34m(\u001b[0m\u001b[0;36m2\u001b[0m\u001b[0;34m)\u001b[0m\u001b[0;34m\u001b[0m\u001b[0m\n\u001b[1;32m      3\u001b[0m \u001b[0mhansen_water\u001b[0m \u001b[0;34m=\u001b[0m \u001b[0mhansen_w\u001b[0m\u001b[0;34m.\u001b[0m\u001b[0mclip\u001b[0m\u001b[0;34m(\u001b[0m\u001b[0mfc\u001b[0m\u001b[0;34m)\u001b[0m\u001b[0;34m\u001b[0m\u001b[0m\n",
      "\u001b[0;31mNameError\u001b[0m: name 'mod44' is not defined"
     ]
    }
   ],
   "source": [
    "mod44_water = mod44.select([0]).clip(fc)\n",
    "hansen_w = hansen.select('datamask').eq(2)\n",
    "hansen_water = hansen_w.clip(fc)"
   ]
  },
  {
   "cell_type": "code",
   "execution_count": 100,
   "metadata": {
    "collapsed": false
   },
   "outputs": [
    {
     "ename": "NameError",
     "evalue": "name 'hansen' is not defined",
     "output_type": "error",
     "traceback": [
      "\u001b[0;31m---------------------------------------------------------------------------\u001b[0m",
      "\u001b[0;31mNameError\u001b[0m                                 Traceback (most recent call last)",
      "\u001b[0;32m<ipython-input-100-7ec0a535fd16>\u001b[0m in \u001b[0;36m<module>\u001b[0;34m()\u001b[0m\n\u001b[0;32m----> 1\u001b[0;31m \u001b[0mhansen\u001b[0m \u001b[0;34m=\u001b[0m \u001b[0mhansen\u001b[0m\u001b[0;34m.\u001b[0m\u001b[0mselect\u001b[0m\u001b[0;34m(\u001b[0m\u001b[0;34m'datamask'\u001b[0m\u001b[0;34m)\u001b[0m\u001b[0;34m\u001b[0m\u001b[0m\n\u001b[0m",
      "\u001b[0;31mNameError\u001b[0m: name 'hansen' is not defined"
     ]
    }
   ],
   "source": [
    "hansen = hansen.select('datamask')"
   ]
  },
  {
   "cell_type": "code",
   "execution_count": 101,
   "metadata": {
    "collapsed": false
   },
   "outputs": [
    {
     "ename": "NameError",
     "evalue": "name 'hansen' is not defined",
     "output_type": "error",
     "traceback": [
      "\u001b[0;31m---------------------------------------------------------------------------\u001b[0m",
      "\u001b[0;31mNameError\u001b[0m                                 Traceback (most recent call last)",
      "\u001b[0;32m<ipython-input-101-a6499b6ed20d>\u001b[0m in \u001b[0;36m<module>\u001b[0;34m()\u001b[0m\n\u001b[0;32m----> 1\u001b[0;31m \u001b[0mhansenLand\u001b[0m \u001b[0;34m=\u001b[0m \u001b[0mhansen\u001b[0m\u001b[0;34m.\u001b[0m\u001b[0mselect\u001b[0m\u001b[0;34m(\u001b[0m\u001b[0;34m[\u001b[0m\u001b[0;36m0\u001b[0m\u001b[0;34m]\u001b[0m\u001b[0;34m)\u001b[0m\u001b[0;34m.\u001b[0m\u001b[0mremap\u001b[0m\u001b[0;34m(\u001b[0m\u001b[0;34m[\u001b[0m\u001b[0;36m0\u001b[0m\u001b[0;34m,\u001b[0m\u001b[0;36m1\u001b[0m\u001b[0;34m,\u001b[0m\u001b[0;36m2\u001b[0m\u001b[0;34m]\u001b[0m\u001b[0;34m,\u001b[0m \u001b[0;34m[\u001b[0m\u001b[0;36m1\u001b[0m\u001b[0;34m,\u001b[0m\u001b[0;36m1\u001b[0m\u001b[0;34m,\u001b[0m\u001b[0;36m0\u001b[0m\u001b[0;34m]\u001b[0m\u001b[0;34m)\u001b[0m\u001b[0;34m\u001b[0m\u001b[0m\n\u001b[0m",
      "\u001b[0;31mNameError\u001b[0m: name 'hansen' is not defined"
     ]
    }
   ],
   "source": [
    "hansenLand = hansen.select([0]).remap([0,1,2], [1,1,0])"
   ]
  },
  {
   "cell_type": "code",
   "execution_count": 102,
   "metadata": {
    "collapsed": false
   },
   "outputs": [
    {
     "ename": "NameError",
     "evalue": "name 'fc' is not defined",
     "output_type": "error",
     "traceback": [
      "\u001b[0;31m---------------------------------------------------------------------------\u001b[0m",
      "\u001b[0;31mNameError\u001b[0m                                 Traceback (most recent call last)",
      "\u001b[0;32m<ipython-input-102-2986035cfe16>\u001b[0m in \u001b[0;36m<module>\u001b[0;34m()\u001b[0m\n\u001b[0;32m----> 1\u001b[0;31m \u001b[0mregion\u001b[0m \u001b[0;34m=\u001b[0m\u001b[0mfc\u001b[0m\u001b[0;34m\u001b[0m\u001b[0m\n\u001b[0m\u001b[1;32m      2\u001b[0m variables = (elevation\n\u001b[1;32m      3\u001b[0m   \u001b[0;34m.\u001b[0m\u001b[0maddBands\u001b[0m\u001b[0;34m(\u001b[0m\u001b[0mslope\u001b[0m\u001b[0;34m)\u001b[0m\u001b[0;34m\u001b[0m\u001b[0m\n\u001b[1;32m      4\u001b[0m   \u001b[0;34m.\u001b[0m\u001b[0maddBands\u001b[0m\u001b[0;34m(\u001b[0m\u001b[0mcurv\u001b[0m\u001b[0;34m)\u001b[0m\u001b[0;34m\u001b[0m\u001b[0m\n\u001b[1;32m      5\u001b[0m   \u001b[0;34m.\u001b[0m\u001b[0maddBands\u001b[0m\u001b[0;34m(\u001b[0m\u001b[0mpint\u001b[0m\u001b[0;34m)\u001b[0m\u001b[0;34m\u001b[0m\u001b[0m\n",
      "\u001b[0;31mNameError\u001b[0m: name 'fc' is not defined"
     ]
    }
   ],
   "source": [
    "region =fc\n",
    "variables = (elevation\n",
    "  .addBands(slope)\n",
    "  .addBands(curv)\n",
    "  .addBands(pint)\n",
    "  .addBands(imp)\n",
    "  .addBands(precip)\n",
    "  .addBands(twi)\n",
    "  .addBands(spi)\n",
    "  .addBands(rdist)\n",
    "  .addBands(aspect)\n",
    "  .addBands(hand));"
   ]
  },
  {
   "cell_type": "code",
   "execution_count": 103,
   "metadata": {
    "collapsed": false
   },
   "outputs": [
    {
     "ename": "NameError",
     "evalue": "name 'variables' is not defined",
     "output_type": "error",
     "traceback": [
      "\u001b[0;31m---------------------------------------------------------------------------\u001b[0m",
      "\u001b[0;31mNameError\u001b[0m                                 Traceback (most recent call last)",
      "\u001b[0;32m<ipython-input-103-8cddda131265>\u001b[0m in \u001b[0;36m<module>\u001b[0;34m()\u001b[0m\n\u001b[0;32m----> 1\u001b[0;31m \u001b[0mvariables\u001b[0m \u001b[0;34m=\u001b[0m \u001b[0mvariables\u001b[0m\u001b[0;34m.\u001b[0m\u001b[0mmask\u001b[0m\u001b[0;34m(\u001b[0m\u001b[0mhansen\u001b[0m\u001b[0;34m)\u001b[0m\u001b[0;34m\u001b[0m\u001b[0m\n\u001b[0m",
      "\u001b[0;31mNameError\u001b[0m: name 'variables' is not defined"
     ]
    }
   ],
   "source": [
    "variables = variables.mask(hansen)"
   ]
  },
  {
   "cell_type": "code",
   "execution_count": 104,
   "metadata": {
    "collapsed": true
   },
   "outputs": [],
   "source": [
    "bands = ['elevation','slope', 'elevation_1','precipitation', 'landcover', 'precipitation_1', \n",
    "        'b1', 'b1_1', 'distance', 'aspect', 'b1_2']"
   ]
  },
  {
   "cell_type": "code",
   "execution_count": 105,
   "metadata": {
    "collapsed": true
   },
   "outputs": [],
   "source": [
    "only_flooded_points= dfo3180.mask(dfo3180.select(['flooded'],['flood']).eq(1))"
   ]
  },
  {
   "cell_type": "code",
   "execution_count": 106,
   "metadata": {
    "collapsed": true
   },
   "outputs": [],
   "source": [
    "not_flooded_points= dfo3180.mask(dfo3180.select(['flooded'],['flood']).neq(1))"
   ]
  },
  {
   "cell_type": "code",
   "execution_count": 111,
   "metadata": {
    "collapsed": false
   },
   "outputs": [
    {
     "ename": "SyntaxError",
     "evalue": "invalid syntax (<ipython-input-111-d2feb51e54d4>, line 6)",
     "output_type": "error",
     "traceback": [
      "\u001b[0;36m  File \u001b[0;32m\"<ipython-input-111-d2feb51e54d4>\"\u001b[0;36m, line \u001b[0;32m6\u001b[0m\n\u001b[0;31m    }).randomColumn().sort('random').limit(4000).map(function(f) {\u001b[0m\n\u001b[0m                                                                 ^\u001b[0m\n\u001b[0;31mSyntaxError\u001b[0m\u001b[0;31m:\u001b[0m invalid syntax\n"
     ]
    }
   ],
   "source": [
    "only_400_flood_points = only_flooded_points.addBands(ee.Image.pixelLonLat()).sample({\n",
    "    'region': fc.geometry().convexHull(),\n",
    "    'scale': 250,\n",
    "    'seed': 0,\n",
    "    'numPixels': 300000,\n",
    "  }).randomColumn().sort('random').limit(4000).map(function(f) { \n",
    "    return ee.Feature(\n",
    "      ee.Geometry.Point([f.get('longitude'), f.get('latitude')]), f.toDictionary())\n",
    "  })"
   ]
  },
  {
   "cell_type": "code",
   "execution_count": 113,
   "metadata": {
    "collapsed": false
   },
   "outputs": [
    {
     "ename": "SyntaxError",
     "evalue": "invalid syntax (<ipython-input-113-c41cd32090a5>, line 3)",
     "output_type": "error",
     "traceback": [
      "\u001b[0;36m  File \u001b[0;32m\"<ipython-input-113-c41cd32090a5>\"\u001b[0;36m, line \u001b[0;32m3\u001b[0m\n\u001b[0;31m    'scale': 250,// takes way too long to run at a 30m scale\u001b[0m\n\u001b[0m                  ^\u001b[0m\n\u001b[0;31mSyntaxError\u001b[0m\u001b[0;31m:\u001b[0m invalid syntax\n"
     ]
    }
   ],
   "source": [
    "only_400_not_flooded_points = not_flooded_points.addBands(ee.Image.pixelLonLat()).sample({\n",
    "    'region': fc.geometry().convexHull(),\n",
    "    'scale': 250,\n",
    "    'seed': 0,\n",
    "    'numPixels': 300000,\n",
    "    'dropNulls': true\n",
    "  }).randomColumn().sort('random').limit(4000).map(function(f) { \n",
    "    return ee.Feature(\n",
    "      ee.Geometry.Point([f.get('longitude'), f.get('latitude')]), f.toDictionary())\n",
    "  })"
   ]
  },
  {
   "cell_type": "code",
   "execution_count": 114,
   "metadata": {
    "collapsed": false
   },
   "outputs": [
    {
     "ename": "NameError",
     "evalue": "name 'only_400_flood_points' is not defined",
     "output_type": "error",
     "traceback": [
      "\u001b[0;31m---------------------------------------------------------------------------\u001b[0m",
      "\u001b[0;31mNameError\u001b[0m                                 Traceback (most recent call last)",
      "\u001b[0;32m<ipython-input-114-370801278c14>\u001b[0m in \u001b[0;36m<module>\u001b[0;34m()\u001b[0m\n\u001b[0;32m----> 1\u001b[0;31m \u001b[0mallPoints\u001b[0m \u001b[0;34m=\u001b[0m \u001b[0monly_400_flood_points\u001b[0m\u001b[0;34m.\u001b[0m\u001b[0mmerge\u001b[0m\u001b[0;34m(\u001b[0m\u001b[0monly_400_not_flooded_points\u001b[0m\u001b[0;34m)\u001b[0m\u001b[0;34m\u001b[0m\u001b[0m\n\u001b[0m",
      "\u001b[0;31mNameError\u001b[0m: name 'only_400_flood_points' is not defined"
     ]
    }
   ],
   "source": [
    "allPoints = only_400_flood_points.merge(only_400_not_flooded_points)"
   ]
  },
  {
   "cell_type": "code",
   "execution_count": 115,
   "metadata": {
    "collapsed": false
   },
   "outputs": [
    {
     "ename": "NameError",
     "evalue": "name 'allPoints' is not defined",
     "output_type": "error",
     "traceback": [
      "\u001b[0;31m---------------------------------------------------------------------------\u001b[0m",
      "\u001b[0;31mNameError\u001b[0m                                 Traceback (most recent call last)",
      "\u001b[0;32m<ipython-input-115-3a10108bed23>\u001b[0m in \u001b[0;36m<module>\u001b[0;34m()\u001b[0m\n\u001b[0;32m----> 1\u001b[0;31m \u001b[0mtrainingTesting\u001b[0m \u001b[0;34m=\u001b[0m \u001b[0mallPoints\u001b[0m\u001b[0;34m.\u001b[0m\u001b[0mrandomColumn\u001b[0m\u001b[0;34m(\u001b[0m\u001b[0;34m)\u001b[0m\u001b[0;34m\u001b[0m\u001b[0m\n\u001b[0m",
      "\u001b[0;31mNameError\u001b[0m: name 'allPoints' is not defined"
     ]
    }
   ],
   "source": [
    "trainingTesting = allPoints.randomColumn()"
   ]
  },
  {
   "cell_type": "code",
   "execution_count": 117,
   "metadata": {
    "collapsed": false
   },
   "outputs": [
    {
     "ename": "NameError",
     "evalue": "name 'trainingTesting' is not defined",
     "output_type": "error",
     "traceback": [
      "\u001b[0;31m---------------------------------------------------------------------------\u001b[0m",
      "\u001b[0;31mNameError\u001b[0m                                 Traceback (most recent call last)",
      "\u001b[0;32m<ipython-input-117-b895b13029ea>\u001b[0m in \u001b[0;36m<module>\u001b[0;34m()\u001b[0m\n\u001b[0;32m----> 1\u001b[0;31m \u001b[0msetOneTrain\u001b[0m \u001b[0;34m=\u001b[0m \u001b[0mtrainingTesting\u001b[0m\u001b[0;34m.\u001b[0m\u001b[0mfilter\u001b[0m\u001b[0;34m(\u001b[0m\u001b[0mee\u001b[0m\u001b[0;34m.\u001b[0m\u001b[0mFilter\u001b[0m\u001b[0;34m.\u001b[0m\u001b[0mrangeContains\u001b[0m\u001b[0;34m(\u001b[0m\u001b[0;34m'random'\u001b[0m\u001b[0;34m,\u001b[0m \u001b[0;36m.1\u001b[0m\u001b[0;34m,\u001b[0m \u001b[0;36m1\u001b[0m\u001b[0;34m)\u001b[0m\u001b[0;34m)\u001b[0m\u001b[0;34m\u001b[0m\u001b[0m\n\u001b[0m\u001b[1;32m      2\u001b[0m \u001b[0msetOneTest\u001b[0m \u001b[0;34m=\u001b[0m \u001b[0mtrainingTesting\u001b[0m\u001b[0;34m.\u001b[0m\u001b[0mfilter\u001b[0m\u001b[0;34m(\u001b[0m\u001b[0mee\u001b[0m\u001b[0;34m.\u001b[0m\u001b[0mFilter\u001b[0m\u001b[0;34m.\u001b[0m\u001b[0mrangeContains\u001b[0m\u001b[0;34m(\u001b[0m\u001b[0;34m'random'\u001b[0m\u001b[0;34m,\u001b[0m \u001b[0;36m0\u001b[0m\u001b[0;34m,\u001b[0m \u001b[0;36m0.099\u001b[0m\u001b[0;34m)\u001b[0m\u001b[0;34m)\u001b[0m\u001b[0;34m\u001b[0m\u001b[0m\n\u001b[1;32m      3\u001b[0m \u001b[0;34m\u001b[0m\u001b[0m\n\u001b[1;32m      4\u001b[0m \u001b[0msetTwoBefore\u001b[0m\u001b[0;34m=\u001b[0m \u001b[0mtrainingTesting\u001b[0m\u001b[0;34m.\u001b[0m\u001b[0mfilter\u001b[0m\u001b[0;34m(\u001b[0m\u001b[0mee\u001b[0m\u001b[0;34m.\u001b[0m\u001b[0mFilter\u001b[0m\u001b[0;34m.\u001b[0m\u001b[0mrangeContains\u001b[0m\u001b[0;34m(\u001b[0m\u001b[0;34m'random'\u001b[0m\u001b[0;34m,\u001b[0m \u001b[0;36m0\u001b[0m\u001b[0;34m,\u001b[0m \u001b[0;36m0.099\u001b[0m\u001b[0;34m)\u001b[0m\u001b[0;34m)\u001b[0m\u001b[0;34m\u001b[0m\u001b[0m\n\u001b[1;32m      5\u001b[0m \u001b[0msetTwoAfter\u001b[0m\u001b[0;34m=\u001b[0m \u001b[0mtrainingTesting\u001b[0m\u001b[0;34m.\u001b[0m\u001b[0mfilter\u001b[0m\u001b[0;34m(\u001b[0m\u001b[0;34m(\u001b[0m\u001b[0mee\u001b[0m\u001b[0;34m.\u001b[0m\u001b[0mFilter\u001b[0m\u001b[0;34m.\u001b[0m\u001b[0mrangeContains\u001b[0m\u001b[0;34m(\u001b[0m\u001b[0;34m'random'\u001b[0m\u001b[0;34m,\u001b[0m \u001b[0;36m.2\u001b[0m\u001b[0;34m,\u001b[0m \u001b[0;36m1\u001b[0m\u001b[0;34m)\u001b[0m\u001b[0;34m)\u001b[0m\u001b[0;34m)\u001b[0m\u001b[0;34m\u001b[0m\u001b[0m\n",
      "\u001b[0;31mNameError\u001b[0m: name 'trainingTesting' is not defined"
     ]
    }
   ],
   "source": [
    "setOneTrain = trainingTesting.filter(ee.Filter.rangeContains('random', .1, 1))\n",
    "setOneTest = trainingTesting.filter(ee.Filter.rangeContains('random', 0, 0.099))\n",
    "\n",
    "setTwoBefore= trainingTesting.filter(ee.Filter.rangeContains('random', 0, 0.099))\n",
    "setTwoAfter= trainingTesting.filter((ee.Filter.rangeContains('random', .2, 1)))\n",
    "setTwoTrain = setTwoBefore.merge(setTwoAfter)\n",
    "setTwoTest = trainingTesting.filter(ee.Filter.rangeContains('random', 0.1, .199))\n",
    "\n",
    "setThreeBefore= trainingTesting.filter(ee.Filter.rangeContains('random', 0, .199))\n",
    "setThreeAfter= trainingTesting.filter((ee.Filter.rangeContains('random', .3, 1)))\n",
    "setThreeTrain = setThreeBefore.merge(setThreeAfter)\n",
    "setThreeTest = trainingTesting.filter(ee.Filter.rangeContains('random', .2, .299))\n",
    "\n",
    "setFourBefore= trainingTesting.filter(ee.Filter.rangeContains('random', 0, .299))\n",
    "setFourAfter= trainingTesting.filter((ee.Filter.rangeContains('random', .4, 1)))\n",
    "setFourTrain = setFourBefore.merge(setFourAfter)\n",
    "setFourTest = trainingTesting.filter(ee.Filter.rangeContains('random', .3, .399))\n",
    "\n",
    "setFiveBefore= trainingTesting.filter(ee.Filter.rangeContains('random', 0, .399))\n",
    "setFiveAfter= trainingTesting.filter((ee.Filter.rangeContains('random', .5, 1)))\n",
    "setFiveTrain = setFiveBefore.merge(setFiveAfter)\n",
    "setFiveTest = trainingTesting.filter(ee.Filter.rangeContains('random', .4, .499))\n",
    "\n",
    "setSixBefore= trainingTesting.filter(ee.Filter.rangeContains('random', 0, .499))\n",
    "setSixAfter= trainingTesting.filter((ee.Filter.rangeContains('random', .6, 1)))\n",
    "setSixTrain = setSixBefore.merge(setSixAfter)\n",
    "setSixTest = trainingTesting.filter(ee.Filter.rangeContains('random', .5, .599))\n",
    "\n",
    "setSevenBefore= trainingTesting.filter(ee.Filter.rangeContains('random', 0, .599))\n",
    "setSevenAfter= trainingTesting.filter((ee.Filter.rangeContains('random', .7, 1)))\n",
    "setSevenTrain = setSevenBefore.merge(setSevenAfter)\n",
    "setSevenTest = trainingTesting.filter(ee.Filter.rangeContains('random', .6, .699))\n",
    "\n",
    "setEightBefore= trainingTesting.filter(ee.Filter.rangeContains('random', 0, .699))\n",
    "setEightAfter= trainingTesting.filter((ee.Filter.rangeContains('random', .8, 1)))\n",
    "setEightTrain = setEightBefore.merge(setEightAfter)\n",
    "setEightTest = trainingTesting.filter(ee.Filter.rangeContains('random', .7, .799))\n",
    "  \n",
    "setNineBefore= trainingTesting.filter(ee.Filter.rangeContains('random', 0, .799))\n",
    "setNineAfter= trainingTesting.filter((ee.Filter.rangeContains('random', .9, 1)))\n",
    "setNineTrain = setNineBefore.merge(setNineAfter)\n",
    "setNineTest = trainingTesting.filter(ee.Filter.rangeContains('random', .8, .899))\n",
    "\n",
    "setTenTrain = trainingTesting.filter(ee.Filter.rangeContains('random', 0, .899))\n",
    "setTenTest = trainingTesting.filter(ee.Filter.rangeContains('random', .9, .999))\n"
   ]
  },
  {
   "cell_type": "code",
   "execution_count": 118,
   "metadata": {
    "collapsed": false
   },
   "outputs": [
    {
     "ename": "NameError",
     "evalue": "name 'variables' is not defined",
     "output_type": "error",
     "traceback": [
      "\u001b[0;31m---------------------------------------------------------------------------\u001b[0m",
      "\u001b[0;31mNameError\u001b[0m                                 Traceback (most recent call last)",
      "\u001b[0;32m<ipython-input-118-522af3abb695>\u001b[0m in \u001b[0;36m<module>\u001b[0;34m()\u001b[0m\n\u001b[0;32m----> 1\u001b[0;31m \u001b[0mtestOneTrain\u001b[0m \u001b[0;34m=\u001b[0m \u001b[0mvariables\u001b[0m\u001b[0;34m.\u001b[0m\u001b[0msampleRegions\u001b[0m\u001b[0;34m(\u001b[0m\u001b[0msetOneTrain\u001b[0m\u001b[0;34m,\u001b[0m \u001b[0;34m[\u001b[0m\u001b[0;34m'flooded'\u001b[0m\u001b[0;34m]\u001b[0m\u001b[0;34m,\u001b[0m \u001b[0;36m250\u001b[0m\u001b[0;34m)\u001b[0m\u001b[0;34m\u001b[0m\u001b[0m\n\u001b[0m\u001b[1;32m      2\u001b[0m \u001b[0mtestOneTest\u001b[0m \u001b[0;34m=\u001b[0m \u001b[0mvariables\u001b[0m\u001b[0;34m.\u001b[0m\u001b[0msampleRegions\u001b[0m\u001b[0;34m(\u001b[0m\u001b[0msetOneTest\u001b[0m\u001b[0;34m,\u001b[0m \u001b[0;34m[\u001b[0m\u001b[0;34m'flooded'\u001b[0m\u001b[0;34m]\u001b[0m\u001b[0;34m,\u001b[0m \u001b[0;36m250\u001b[0m\u001b[0;34m)\u001b[0m\u001b[0;34m\u001b[0m\u001b[0m\n\u001b[1;32m      3\u001b[0m \u001b[0;34m\u001b[0m\u001b[0m\n\u001b[1;32m      4\u001b[0m \u001b[0mtestTwoTrain\u001b[0m \u001b[0;34m=\u001b[0m \u001b[0mvariables\u001b[0m\u001b[0;34m.\u001b[0m\u001b[0msampleRegions\u001b[0m\u001b[0;34m(\u001b[0m\u001b[0msetTwoTrain\u001b[0m\u001b[0;34m,\u001b[0m \u001b[0;34m[\u001b[0m\u001b[0;34m'flooded'\u001b[0m\u001b[0;34m]\u001b[0m\u001b[0;34m,\u001b[0m \u001b[0;36m250\u001b[0m\u001b[0;34m)\u001b[0m\u001b[0;34m\u001b[0m\u001b[0m\n\u001b[1;32m      5\u001b[0m \u001b[0mtestTwoTest\u001b[0m \u001b[0;34m=\u001b[0m \u001b[0mvariables\u001b[0m\u001b[0;34m.\u001b[0m\u001b[0msampleRegions\u001b[0m\u001b[0;34m(\u001b[0m\u001b[0msetTwoTest\u001b[0m\u001b[0;34m,\u001b[0m \u001b[0;34m[\u001b[0m\u001b[0;34m'flooded'\u001b[0m\u001b[0;34m]\u001b[0m\u001b[0;34m,\u001b[0m \u001b[0;36m250\u001b[0m\u001b[0;34m)\u001b[0m\u001b[0;34m\u001b[0m\u001b[0m\n",
      "\u001b[0;31mNameError\u001b[0m: name 'variables' is not defined"
     ]
    }
   ],
   "source": [
    "testOneTrain = variables.sampleRegions(setOneTrain, ['flooded'], 250)\n",
    "testOneTest = variables.sampleRegions(setOneTest, ['flooded'], 250)\n",
    "\n",
    "testTwoTrain = variables.sampleRegions(setTwoTrain, ['flooded'], 250)\n",
    "testTwoTest = variables.sampleRegions(setTwoTest, ['flooded'], 250)\n",
    "\n",
    "testThreeTrain = variables.sampleRegions(setThreeTrain, ['flooded'], 250)\n",
    "testThreeTest = variables.sampleRegions(setThreeTest, ['flooded'], 250)\n",
    "\n",
    "testFourTrain = variables.sampleRegions(setFourTrain, ['flooded'], 250)\n",
    "testFourTest = variables.sampleRegions(setFourTest, ['flooded'], 250)\n",
    "\n",
    "testFiveTrain = variables.sampleRegions(setFiveTrain, ['flooded'], 250)\n",
    "testFiveTest = variables.sampleRegions(setFiveTest, ['flooded'], 250)\n",
    "\n",
    "testSixTrain = variables.sampleRegions(setSixTrain, ['flooded'], 250)\n",
    "testSixTest = variables.sampleRegions(setSixTest, ['flooded'], 250)\n",
    "\n",
    "testSevenTrain = variables.sampleRegions(setSevenTrain, ['flooded'], 250)\n",
    "testSevenTest = variables.sampleRegions(setSevenTest, ['flooded'], 250)\n",
    "\n",
    "testEightTrain = variables.sampleRegions(setEightTrain, ['flooded'], 250)\n",
    "testEightTest = variables.sampleRegions(setEightTest, ['flooded'], 250)\n",
    "\n",
    "testNineTrain = variables.sampleRegions(setNineTrain, ['flooded'], 250)\n",
    "testNineTest = variables.sampleRegions(setNineTest, ['flooded'], 250)\n",
    "\n",
    "testTenTrain = variables.sampleRegions(setTenTrain, ['flooded'], 250)\n",
    "testTenTest = variables.sampleRegions(setTenTest, ['flooded'], 250)\n"
   ]
  },
  {
   "cell_type": "code",
   "execution_count": null,
   "metadata": {
    "collapsed": true
   },
   "outputs": [],
   "source": []
  }
 ],
 "metadata": {
  "anaconda-cloud": {},
  "kernelspec": {
   "display_name": "Python 2",
   "language": "python",
   "name": "python2"
  },
  "language_info": {
   "codemirror_mode": {
    "name": "ipython",
    "version": 2
   },
   "file_extension": ".py",
   "mimetype": "text/x-python",
   "name": "python",
   "nbconvert_exporter": "python",
   "pygments_lexer": "ipython2",
   "version": "2.7.12"
  }
 },
 "nbformat": 4,
 "nbformat_minor": 1
}
