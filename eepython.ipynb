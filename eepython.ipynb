{
 "cells": [
  {
   "cell_type": "code",
   "execution_count": 1,
   "metadata": {
    "collapsed": true
   },
   "outputs": [],
   "source": [
    "# Import and initialize Google Earth Engine.\n",
    "import ee\n",
    "ee.Initialize()"
   ]
  },
  {
   "cell_type": "code",
   "execution_count": 2,
   "metadata": {
    "collapsed": true
   },
   "outputs": [],
   "source": [
    "# Import relevant packages and functions.\n",
    "\n",
    "%matplotlib notebook\n",
    "\n",
    "from __future__ import print_function # For py 2.7 compat\n",
    "\n",
    "\n",
    "import datetime\n",
    "import ipywidgets\n",
    "from IPython.display import display\n",
    "from IPython.display import Image\n",
    "import traitlets\n",
    "from IPython.core.display import Javascript"
   ]
  },
  {
   "cell_type": "code",
   "execution_count": 3,
   "metadata": {
    "collapsed": false
   },
   "outputs": [
    {
     "data": {
      "text/plain": [
       "'5.1.0'"
      ]
     },
     "execution_count": 3,
     "metadata": {},
     "output_type": "execute_result"
    }
   ],
   "source": [
    "import IPython\n",
    "IPython.__version__"
   ]
  },
  {
   "cell_type": "code",
   "execution_count": 55,
   "metadata": {
    "collapsed": false
   },
   "outputs": [],
   "source": [
    "# Enter user inputs area of interest, associated water lines, \n",
    "# storm duration, and storm dates.\n",
    "studyArea = ee.FeatureCollection( \n",
    "    'ft:1LDn3ycFakx0QZltmUz3ZurEhmbC9snAnXc6b-5zR').filter(ee.Filter.eq(\n",
    "        'reg', 'DAKAR'))\n",
    "waterLines = ee.FeatureCollection( \n",
    "    'ft:1earShoNRTjW-FiXA5ESgk9N3kcqsh_XCAN1eq7lN')\n",
    "stormDuration = 8\n",
    "stormStartDate = ee.Date('2012-08-28')\n",
    "stormEndDate = ee.Date('2012-09-04')\n",
    "yearStartDate = ee.Date('2012-01-01')\n",
    "yearEndDate = ee.Date('2012-12-31')\n",
    "dfo = ee.FeatureCollection( \n",
    "    'ft:1z-JcOwKYuxL1YoWQH4k7ByI75-2kzT91ctz286BI')\n",
    "dfo3180 = ee.Image(\n",
    "    'users/jonathanasullivan/geeOtsuDFOAssets_Senegal/Senegal_Otsu_DFO3180_3Day')\n",
    "mod44 = ee.Image('MODIS/MOD44W/MOD44W_005_2000_02_24')\n",
    "hansen = ee.Image('UMD/hansen/global_forest_change_2015')\n",
    "\n"
   ]
  },
  {
   "cell_type": "code",
   "execution_count": 11,
   "metadata": {
    "collapsed": false
   },
   "outputs": [],
   "source": [
    "# Import the Digital Elevation Model (DEM).\n",
    "elevation = ee.Image(\"USGS/SRTMGL1_003\")"
   ]
  },
  {
   "cell_type": "code",
   "execution_count": 12,
   "metadata": {
    "collapsed": false
   },
   "outputs": [],
   "source": [
    "# Local slope - This calculates slope in degrees from the DEM.\n",
    "slope = ee.Terrain.slope(elevation)"
   ]
  },
  {
   "cell_type": "code",
   "execution_count": 13,
   "metadata": {
    "collapsed": false
   },
   "outputs": [],
   "source": [
    "# Curvature - This calculates the curvature, which is defined as the \n",
    "# slope of the slope. You can think of it as the shape (\n",
    "# convex, concave, flat) of the area. While slope helps define the \n",
    "# rate of of run-off, curvature helps determine the direction of flow. \n",
    "curv = (elevation.convolve(ee.Kernel.laplacian8())).resample()\n"
   ]
  },
  {
   "cell_type": "code",
   "execution_count": 14,
   "metadata": {
    "collapsed": false
   },
   "outputs": [],
   "source": [
    "# Section 2.2 Climate & Precipitation Indicators\n",
    "\n",
    "# Total precipitation during the flood event:\n",
    "precip = ee.Image(ee.ImageCollection('NOAA/PERSIANN-CDR')\n",
    "                  .filterDate(stormStartDate,stormEndDate)\n",
    "                  .select(\"precipitation\").sum())\n"
   ]
  },
  {
   "cell_type": "code",
   "execution_count": 15,
   "metadata": {
    "collapsed": false
   },
   "outputs": [],
   "source": [
    "# Define event precipitation intensity as Pi = (Sm + Am) / (Am – Sm).\n",
    "\n",
    "# Maximum 24-hr precipitation during the flood event:\n",
    "stormMax = ee.Image(ee.ImageCollection('NOAA/PERSIANN-CDR')\n",
    "                    .filterDate(stormStartDate,stormEndDate)\n",
    "                    .select(\"precipitation\").max())\n",
    "\n",
    "# Maximum 24-hr precipitation for the year of the flood event:\n",
    "annualMax = ee.Image(ee.ImageCollection('NOAA/PERSIANN-CDR')\n",
    "                     .filterDate(yearStartDate, yearEndDate)\n",
    "                     .select(\"precipitation\").max())\n",
    "\n",
    "pi = (stormMax.add(annualMax)).divide(annualMax.subtract(stormMax))"
   ]
  },
  {
   "cell_type": "code",
   "execution_count": 56,
   "metadata": {
    "collapsed": false
   },
   "outputs": [],
   "source": [
    "# Import land surface temperature \n",
    "temp = ee.ImageCollection('MODIS/MYD11A1').filterDate(\n",
    "    stormStartDate,stormEndDate).select('LST_Day_1km')"
   ]
  },
  {
   "cell_type": "code",
   "execution_count": 17,
   "metadata": {
    "collapsed": true
   },
   "outputs": [],
   "source": [
    "# Section 2.3 Development Indicators\n",
    " \n",
    "# Impervious surface  -bring in land cover/land use data\n",
    "cover = ee.Image('ESA/GLOBCOVER_L4_200901_200912_V2_3').select(0)\n",
    "imp = cover.eq(190)"
   ]
  },
  {
   "cell_type": "code",
   "execution_count": 23,
   "metadata": {
    "collapsed": false
   },
   "outputs": [],
   "source": [
    "# Section 2.4 Hydrologic Indicators \n",
    "\n",
    "# Euclidean distance from water features \n",
    "# Select waterfeatures by filtering for LC labeled \n",
    "# 180 (GlobCover category for H20).\n",
    "\n",
    "waterf= ee.Image(\"MODIS/MOD44W/MOD44W_005_2000_02_24\").select(\n",
    "    \"water_mask\");\n",
    "cover = ee.Image('ESA/GLOBCOVER_L4_200901_200912_V2_3').select(0);\n",
    "waterf = cover.eq(210)\n",
    "imp = cover.eq(190)"
   ]
  },
  {
   "cell_type": "code",
   "execution_count": 24,
   "metadata": {
    "collapsed": true
   },
   "outputs": [],
   "source": [
    "# Create a distance kernel - defining area of analysis.\n",
    "kern = ee.Kernel.euclidean(2000, 'meters')"
   ]
  },
  {
   "cell_type": "code",
   "execution_count": 25,
   "metadata": {
    "collapsed": false
   },
   "outputs": [],
   "source": [
    "# Associate the viewing distance (kern) with the water features\n",
    "distance = waterf.distance(kern)"
   ]
  },
  {
   "cell_type": "code",
   "execution_count": 26,
   "metadata": {
    "collapsed": false
   },
   "outputs": [],
   "source": [
    "# Calculate distance from rivers using the NHD data \n",
    "# and the distance variable\n",
    "riverDist = waterLines.distance().clip(studyArea)"
   ]
  },
  {
   "cell_type": "code",
   "execution_count": 27,
   "metadata": {
    "collapsed": true
   },
   "outputs": [],
   "source": [
    "# Topographic Wetness Index (TWI):\n",
    "# Preprocessing includes generating flow accumulation, \n",
    "# catchment area & slope --15 sec flow accumulation.\n",
    "flowAcc = ee.Image('WWF/HydroSHEDS/15ACC')"
   ]
  },
  {
   "cell_type": "code",
   "execution_count": 28,
   "metadata": {
    "collapsed": false
   },
   "outputs": [],
   "source": [
    "# Calculate flow accumulation in the flood zone.\n",
    "floodFlow = flowAcc.clip(studyArea)"
   ]
  },
  {
   "cell_type": "code",
   "execution_count": 29,
   "metadata": {
    "collapsed": true
   },
   "outputs": [],
   "source": [
    "# Create layer of just 1's. \n",
    "imageof1 = ee.Image.constant(1)"
   ]
  },
  {
   "cell_type": "code",
   "execution_count": 30,
   "metadata": {
    "collapsed": false
   },
   "outputs": [],
   "source": [
    "# Add +1 to flow accumulation.\n",
    "# This is so you don't get zeros when you take the log.\n",
    "floodFlowPlus1 = floodFlow.add(imageof1)"
   ]
  },
  {
   "cell_type": "code",
   "execution_count": 32,
   "metadata": {
    "collapsed": false
   },
   "outputs": [],
   "source": [
    "# Pixel dimensions of flow accumulation:\n",
    "pixelArea = ee.Image.pixelArea().mask(floodFlow.mask())"
   ]
  },
  {
   "cell_type": "code",
   "execution_count": 33,
   "metadata": {
    "collapsed": false
   },
   "outputs": [],
   "source": [
    "# Now calculate the upstream area for each pixel using \n",
    "# contributing catchment area according to topmodel \n",
    "# topographic index equation.\n",
    "# CA= (flow accum + 1 * cell^2)\n",
    "# This is calculated by multiplying the number of pixels \n",
    "# flowing into a given pixel * the area. \n",
    "ca = floodFlowPlus1.multiply(pixelArea)"
   ]
  },
  {
   "cell_type": "code",
   "execution_count": 34,
   "metadata": {
    "collapsed": true
   },
   "outputs": [],
   "source": [
    "# Add a very low number to the slope so that zero.\n",
    "# Slopes don't get counted out of the index.\n",
    "imageofalmost0 = ee.Image.constant(0.0000001)"
   ]
  },
  {
   "cell_type": "code",
   "execution_count": 35,
   "metadata": {
    "collapsed": true
   },
   "outputs": [],
   "source": [
    "# Get new slope with no zero.\n",
    "nonzeroSlopes = slope.add(imageofalmost0)"
   ]
  },
  {
   "cell_type": "code",
   "execution_count": 37,
   "metadata": {
    "collapsed": false
   },
   "outputs": [],
   "source": [
    "# Convert to radians.\n",
    "slopeRadians = nonzeroSlopes.multiply(3.141593/180)"
   ]
  },
  {
   "cell_type": "code",
   "execution_count": 38,
   "metadata": {
    "collapsed": false
   },
   "outputs": [],
   "source": [
    "# Calcualte the tan of the slope for TI equation.\n",
    "tanSlope = slopeRadians.tan()\n",
    "clipped2 = tanSlope"
   ]
  },
  {
   "cell_type": "code",
   "execution_count": 39,
   "metadata": {
    "collapsed": false
   },
   "outputs": [],
   "source": [
    "# The topographic index is LN([flowaccum+1*cellarea]/tanslope)\n",
    "# It is defined as ln(a/tanβ) where a is the local\n",
    "# upslope area draining through a certain point per unit contour\n",
    "# length and tanβ is the local slope.\n",
    "# Note that both TWI and SPI assume steady state.\n",
    "topoIndex = ca.divide(clipped2)\n",
    "twi = topoIndex.log()"
   ]
  },
  {
   "cell_type": "code",
   "execution_count": 40,
   "metadata": {
    "collapsed": false
   },
   "outputs": [],
   "source": [
    "# Stream Power Index (SPI)\n",
    "# SPI is CA/slope (Gallant 2000 Terrain Analysis).\n",
    "streamPower = ca.multiply(clipped2) #final SPI\n",
    "spi = streamPower.clip(studyArea) #clip to watershed"
   ]
  },
  {
   "cell_type": "code",
   "execution_count": 41,
   "metadata": {
    "collapsed": false
   },
   "outputs": [],
   "source": [
    "# Aspect (snowmelt): \n",
    "# This tells you the direction of the slope (0-360 degrees)\n",
    "# which is important for snowmelt.\n",
    "aspect = ee.Terrain.aspect(elevation)"
   ]
  },
  {
   "cell_type": "code",
   "execution_count": 42,
   "metadata": {
    "collapsed": true
   },
   "outputs": [],
   "source": [
    "# Height Above Nearest Drainage:\n",
    "hand = ee.ImageCollection('users/gena/global-hand/hand-100').mosaic()"
   ]
  },
  {
   "cell_type": "code",
   "execution_count": 57,
   "metadata": {
    "collapsed": false
   },
   "outputs": [],
   "source": [
    "def radians(img):\n",
    "    return img.toFloat().multiply(3.1415927).divide(180)\n",
    "\n",
    "def hillshade(az, ze, slope, aspect):\n",
    "    azimuth = radians(ee.Image(az))\n",
    "    zenith = radians(ee.Image(ze))\n",
    "    return azimuth.subtract(aspect).cos().multiply(\n",
    "        slope.sin()).multiply(zenith.sin()).add(zenith.cos().multiply(\n",
    "            slope.cos()))\n",
    "\n",
    "def hillshadeit(image, elevation, weight, height_multiplier, \n",
    "                azimuth, zenith):\n",
    "    hsv  = image.unitScale(0, 255).rgbtohsv()\n",
    "    \n",
    "    terrain = ee.call('Terrain', elevation.multiply(height_multiplier))\n",
    "    slope = radians(terrain.select(['slope']))\n",
    "\n",
    "    aspect = radians(terrain.select(['aspect'])).resample('bicubic')\n",
    "    hs = hillshade(azimuth, zenith, slope, aspect).resample('bicubic')\n",
    "\n",
    "    intensity = hs.multiply(weight).multiply(hsv.select('value'));\n",
    "    huesat = hsv.select('hue', 'saturation');\n",
    "\n",
    "    return ee.Image.cat(huesat, intensity).hsvtorgb()"
   ]
  },
  {
   "cell_type": "code",
   "execution_count": 47,
   "metadata": {
    "collapsed": false
   },
   "outputs": [],
   "source": [
    "# Global DEM mosaic: \n",
    "DEM1 = ee.Image('users/gena/ViewfinderpanoramaDEM/VFP_DEM1')\n",
    "DEM2 = ee.Image('users/gena/ViewfinderpanoramaDEM/VFP_DEM2')\n",
    "DEM3 = ee.Image('users/gena/ViewfinderpanoramaDEM/VFP_DEM3')\n",
    "DEM4 = ee.Image('users/gena/ViewfinderpanoramaDEM/VFP_DEM4')\n",
    "DEM5 = ee.Image('users/gena/ViewfinderpanoramaDEM/VFP_DEM5')\n",
    "DEM6 = ee.Image('users/gena/ViewfinderpanoramaDEM/VFP_DEM6')\n",
    "DEM7 = ee.Image('users/gena/ViewfinderpanoramaDEM/VFP_DEM7')\n",
    "DEM8 = ee.Image('users/gena/ViewfinderpanoramaDEM/VFP_DEM8')\n",
    "\n",
    "dem = ee.Image.cat(DEM1,DEM2,DEM3,DEM4,DEM5,DEM6,DEM7,DEM8,elevation)\n"
   ]
  },
  {
   "cell_type": "code",
   "execution_count": 48,
   "metadata": {
    "collapsed": false
   },
   "outputs": [],
   "source": [
    "azimuth = 90\n",
    "zenith = 20\n",
    "hsWeight = 1.1\n",
    "heightMultiplier = 4"
   ]
  },
  {
   "cell_type": "code",
   "execution_count": 50,
   "metadata": {
    "collapsed": false
   },
   "outputs": [],
   "source": [
    "# Building a water mask\n",
    "# These are waterbodies.\n",
    "mod44Water = mod44.select([0]).clip(studyArea)\n",
    "hansenW = hansen.select('datamask').eq(2)\n",
    "hansenWater = hansenW.clip(studyArea)"
   ]
  },
  {
   "cell_type": "code",
   "execution_count": 51,
   "metadata": {
    "collapsed": false
   },
   "outputs": [],
   "source": [
    "# This masks out water pixels.\n",
    "hansen = hansen.select('datamask')\n",
    "hansenLand = hansen.select([0]).remap([0,1,2], [1,1,0])"
   ]
  },
  {
   "cell_type": "code",
   "execution_count": 52,
   "metadata": {
    "collapsed": false
   },
   "outputs": [],
   "source": [
    "# This generates a multiband image of all the training data.\n",
    "region =studyArea\n",
    "variables = (elevation\n",
    "  .addBands(slope)\n",
    "  .addBands(curv)\n",
    "  .addBands(pi)\n",
    "  .addBands(imp)\n",
    "  .addBands(precip)\n",
    "  .addBands(twi)\n",
    "  .addBands(spi)\n",
    "  .addBands(riverDist)\n",
    "  .addBands(aspect)\n",
    "  .addBands(hand)\n",
    "  .addBands(temp));"
   ]
  },
  {
   "cell_type": "code",
   "execution_count": 53,
   "metadata": {
    "collapsed": false
   },
   "outputs": [],
   "source": [
    "# Mask out pixels that are permanent water bodies\n",
    "variables = variables.mask(hansen)"
   ]
  },
  {
   "cell_type": "code",
   "execution_count": 54,
   "metadata": {
    "collapsed": true
   },
   "outputs": [],
   "source": [
    "# Create variable to store band names\n",
    "bands = ['elevation','slope', 'elevation_1',\n",
    "         'precipitation', 'landcover', 'precipitation_1', \n",
    "         'b1', 'b1_1', 'distance', 'aspect', 'b1_2', 'temp']"
   ]
  }
 ],
 "metadata": {
  "anaconda-cloud": {},
  "kernelspec": {
   "display_name": "Python 2",
   "language": "python",
   "name": "python2"
  },
  "language_info": {
   "codemirror_mode": {
    "name": "ipython",
    "version": 2
   },
   "file_extension": ".py",
   "mimetype": "text/x-python",
   "name": "python",
   "nbconvert_exporter": "python",
   "pygments_lexer": "ipython2",
   "version": "2.7.12"
  }
 },
 "nbformat": 4,
 "nbformat_minor": 1
}
